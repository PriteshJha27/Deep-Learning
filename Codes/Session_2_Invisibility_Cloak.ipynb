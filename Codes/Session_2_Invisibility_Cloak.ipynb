{
 "cells": [
  {
   "cell_type": "code",
   "execution_count": null,
   "id": "6a470750",
   "metadata": {},
   "outputs": [],
   "source": [
    "import cv2\n",
    "import numpy as np"
   ]
  },
  {
   "cell_type": "code",
   "execution_count": null,
   "id": "86c5f60a",
   "metadata": {},
   "outputs": [],
   "source": [
    "def capture_background(delay=3):\n",
    "    cap = cv2.VideoCapture(1)\n",
    "    print(f\"Capturing background in {delay} seconds. Please move out of the camera frame.\")\n",
    "    for i in range(delay * 30):\n",
    "        ret, background = cap.read()\n",
    "    cap.release()\n",
    "    return background"
   ]
  },
  {
   "cell_type": "code",
   "execution_count": null,
   "id": "2f99a464",
   "metadata": {},
   "outputs": [],
   "source": [
    "def cloak(hsv_lower, hsv_upper, background):\n",
    "    cap = cv2.VideoCapture(1)\n",
    "    while cap.isOpened():\n",
    "        ret, frame = cap.read()\n",
    "        if not ret:\n",
    "            break\n",
    "\n",
    "        hsv_frame = cv2.cvtColor(frame, cv2.COLOR_BGR2HSV)\n",
    "        mask = cv2.inRange(hsv_frame, hsv_lower, hsv_upper)\n",
    "\n",
    "        # Mask the color and replace with background\n",
    "        mask_inv = cv2.bitwise_not(mask)\n",
    "        res1 = cv2.bitwise_and(background, background, mask=mask)\n",
    "        res2 = cv2.bitwise_and(frame, frame, mask=mask_inv)\n",
    "        final_output = cv2.addWeighted(res1, 1, res2, 1, 0)\n",
    "\n",
    "        cv2.imshow(\"Cloak\", final_output)\n",
    "        if cv2.waitKey(1) == ord('q'):\n",
    "            break\n",
    "\n",
    "    cap.release()\n",
    "    cv2.destroyAllWindows()"
   ]
  },
  {
   "cell_type": "code",
   "execution_count": null,
   "id": "ea5f2238",
   "metadata": {},
   "outputs": [],
   "source": [
    "hsv_lower = np.array([0, 0, 0])\n",
    "hsv_upper = np.array([180, 255, 50])"
   ]
  },
  {
   "cell_type": "code",
   "execution_count": null,
   "id": "78971c3b",
   "metadata": {},
   "outputs": [],
   "source": [
    "background = capture_background(1)"
   ]
  },
  {
   "cell_type": "code",
   "execution_count": null,
   "id": "5a11ce20",
   "metadata": {
    "scrolled": true
   },
   "outputs": [],
   "source": [
    "cloak(hsv_lower, hsv_upper, background)"
   ]
  },
  {
   "cell_type": "code",
   "execution_count": null,
   "id": "5174825d",
   "metadata": {},
   "outputs": [],
   "source": [
    "cv2.destroyAllWindows()\n",
    "cap.release()"
   ]
  },
  {
   "cell_type": "code",
   "execution_count": null,
   "id": "c80ef095",
   "metadata": {},
   "outputs": [],
   "source": []
  }
 ],
 "metadata": {
  "kernelspec": {
   "display_name": "Python 3 (ipykernel)",
   "language": "python",
   "name": "python3"
  },
  "language_info": {
   "codemirror_mode": {
    "name": "ipython",
    "version": 3
   },
   "file_extension": ".py",
   "mimetype": "text/x-python",
   "name": "python",
   "nbconvert_exporter": "python",
   "pygments_lexer": "ipython3",
   "version": "3.10.9"
  }
 },
 "nbformat": 4,
 "nbformat_minor": 5
}
