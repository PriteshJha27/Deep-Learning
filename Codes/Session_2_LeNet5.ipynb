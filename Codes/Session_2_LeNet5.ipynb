{
 "cells": [
  {
   "cell_type": "markdown",
   "metadata": {},
   "source": [
    "### LeNet-5 Architecture"
   ]
  },
  {
   "cell_type": "markdown",
   "metadata": {},
   "source": [
    "#### Load packages"
   ]
  },
  {
   "cell_type": "code",
   "execution_count": 18,
   "metadata": {},
   "outputs": [],
   "source": [
    "import keras"
   ]
  },
  {
   "cell_type": "code",
   "execution_count": 1,
   "metadata": {},
   "outputs": [],
   "source": [
    "from keras.models import Sequential"
   ]
  },
  {
   "cell_type": "code",
   "execution_count": 22,
   "metadata": {},
   "outputs": [],
   "source": [
    "from keras.layers import Conv2D, MaxPooling2D, AveragePooling2D, Dense, Flatten\n",
    "import tensorflow as tf "
   ]
  },
  {
   "cell_type": "code",
   "execution_count": 3,
   "metadata": {},
   "outputs": [],
   "source": [
    "from matplotlib import pyplot as plt "
   ]
  },
  {
   "cell_type": "code",
   "execution_count": 5,
   "metadata": {},
   "outputs": [],
   "source": [
    "from keras.datasets import mnist"
   ]
  },
  {
   "cell_type": "code",
   "execution_count": 6,
   "metadata": {},
   "outputs": [
    {
     "name": "stdout",
     "output_type": "stream",
     "text": [
      "Downloading data from https://storage.googleapis.com/tensorflow/tf-keras-datasets/mnist.npz\n",
      "11490434/11490434 [==============================] - 10s 1us/step\n"
     ]
    }
   ],
   "source": [
    "# Load MNIST dataset\n",
    "(x_train, y_train), (x_test, y_test) = mnist.load_data()"
   ]
  },
  {
   "cell_type": "code",
   "execution_count": 7,
   "metadata": {},
   "outputs": [
    {
     "name": "stdout",
     "output_type": "stream",
     "text": [
      "x_train shape: (60000, 28, 28)\n",
      "60000 train samples\n",
      "10000 test samples\n"
     ]
    }
   ],
   "source": [
    "print('x_train shape:', x_train.shape)\n",
    "print(x_train.shape[0], 'train samples')\n",
    "print(x_test.shape[0], 'test samples')"
   ]
  },
  {
   "cell_type": "code",
   "execution_count": 8,
   "metadata": {},
   "outputs": [],
   "source": [
    "# Reshape and scale the images to be 32x32 and add an extra dimension to represent the single channel (grayscale)\n",
    "x_train = x_train.reshape((-1, 28, 28, 1))\n",
    "x_test = x_test.reshape((-1, 28, 28, 1))\n",
    "\n",
    "x_train = tf.pad(x_train, [[0, 0], [2, 2], [2, 2], [0, 0]], \"CONSTANT\")\n",
    "x_test = tf.pad(x_test, [[0, 0], [2, 2], [2, 2], [0, 0]], \"CONSTANT\")"
   ]
  },
  {
   "cell_type": "code",
   "execution_count": 9,
   "metadata": {},
   "outputs": [
    {
     "name": "stdout",
     "output_type": "stream",
     "text": [
      "x_train shape: (60000, 32, 32, 1)\n",
      "60000 train samples\n",
      "10000 test samples\n"
     ]
    }
   ],
   "source": [
    "print('x_train shape:', x_train.shape)\n",
    "print(x_train.shape[0], 'train samples')\n",
    "print(x_test.shape[0], 'test samples')"
   ]
  },
  {
   "cell_type": "code",
   "execution_count": 12,
   "metadata": {},
   "outputs": [],
   "source": [
    "# x_train = x_train.astype('float32')\n",
    "# x_test = x_test.astype('float32')\n",
    "x_train /= 255\n",
    "x_test /= 255"
   ]
  },
  {
   "cell_type": "code",
   "execution_count": 19,
   "metadata": {},
   "outputs": [],
   "source": [
    "### One hot encoding for multi-class \n",
    "\n",
    "num_classes = 10\n",
    "\n",
    "y_train = keras.utils.to_categorical(y_train, num_classes)\n",
    "y_test = keras.utils.to_categorical(y_test, num_classes)"
   ]
  },
  {
   "cell_type": "code",
   "execution_count": null,
   "metadata": {},
   "outputs": [],
   "source": []
  },
  {
   "cell_type": "code",
   "execution_count": 20,
   "metadata": {},
   "outputs": [],
   "source": [
    "\n",
    "def LeNet5():\n",
    "    model = Sequential()\n",
    "\n",
    "    # C1 Convolutional Layer\n",
    "    model.add(Conv2D(filters=6, kernel_size=(5, 5), activation='relu', input_shape=(32,32,1)))\n",
    "\n",
    "    # S2 Pooling Layer\n",
    "    model.add(AveragePooling2D(pool_size=(2, 2)))\n",
    "\n",
    "    # C3 Convolutional Layer\n",
    "    model.add(Conv2D(filters=16, kernel_size=(5, 5), activation='relu'))\n",
    "\n",
    "    # S4 Pooling Layer\n",
    "    model.add(AveragePooling2D(pool_size=(2, 2)))\n",
    "\n",
    "    # C5 Fully Connected Convolutional Layer\n",
    "    model.add(Flatten())\n",
    "    model.add(Dense(units=120, activation='relu'))\n",
    "\n",
    "    # F6 Fully Connected Layer\n",
    "    model.add(Dense(units=84, activation='relu'))\n",
    "\n",
    "    # Output Layer with softmax activation\n",
    "    model.add(Dense(units=10, activation = 'softmax'))\n",
    "\n",
    "    return model\n"
   ]
  },
  {
   "cell_type": "code",
   "execution_count": 23,
   "metadata": {},
   "outputs": [],
   "source": [
    "# Create the LeNet-5 model\n",
    "lenet5_model = LeNet5()"
   ]
  },
  {
   "cell_type": "code",
   "execution_count": 24,
   "metadata": {},
   "outputs": [],
   "source": [
    "# Compile the model\n",
    "lenet5_model.compile(optimizer='adam', \n",
    "                     loss='categorical_crossentropy', \n",
    "                     metrics=['accuracy'])"
   ]
  },
  {
   "cell_type": "code",
   "execution_count": 25,
   "metadata": {},
   "outputs": [
    {
     "name": "stdout",
     "output_type": "stream",
     "text": [
      "Model: \"sequential_1\"\n",
      "_________________________________________________________________\n",
      " Layer (type)                Output Shape              Param #   \n",
      "=================================================================\n",
      " conv2d_2 (Conv2D)           (None, 28, 28, 6)         156       \n",
      "                                                                 \n",
      " average_pooling2d_2 (Averag  (None, 14, 14, 6)        0         \n",
      " ePooling2D)                                                     \n",
      "                                                                 \n",
      " conv2d_3 (Conv2D)           (None, 10, 10, 16)        2416      \n",
      "                                                                 \n",
      " average_pooling2d_3 (Averag  (None, 5, 5, 16)         0         \n",
      " ePooling2D)                                                     \n",
      "                                                                 \n",
      " flatten (Flatten)           (None, 400)               0         \n",
      "                                                                 \n",
      " dense (Dense)               (None, 120)               48120     \n",
      "                                                                 \n",
      " dense_1 (Dense)             (None, 84)                10164     \n",
      "                                                                 \n",
      " dense_2 (Dense)             (None, 10)                850       \n",
      "                                                                 \n",
      "=================================================================\n",
      "Total params: 61,706\n",
      "Trainable params: 61,706\n",
      "Non-trainable params: 0\n",
      "_________________________________________________________________\n"
     ]
    }
   ],
   "source": [
    "# Summary of the model\n",
    "lenet5_model.summary()"
   ]
  },
  {
   "cell_type": "code",
   "execution_count": 26,
   "metadata": {},
   "outputs": [
    {
     "name": "stdout",
     "output_type": "stream",
     "text": [
      "Epoch 1/15\n",
      "1875/1875 [==============================] - 14s 7ms/step - loss: 0.2092 - accuracy: 0.9356 - val_loss: 0.0702 - val_accuracy: 0.9770\n",
      "Epoch 2/15\n",
      "1875/1875 [==============================] - 13s 7ms/step - loss: 0.0703 - accuracy: 0.9782 - val_loss: 0.0432 - val_accuracy: 0.9864\n",
      "Epoch 3/15\n",
      "1875/1875 [==============================] - 13s 7ms/step - loss: 0.0500 - accuracy: 0.9844 - val_loss: 0.0409 - val_accuracy: 0.9858\n",
      "Epoch 4/15\n",
      "1875/1875 [==============================] - 14s 7ms/step - loss: 0.0381 - accuracy: 0.9883 - val_loss: 0.0426 - val_accuracy: 0.9856\n",
      "Epoch 5/15\n",
      "1875/1875 [==============================] - 13s 7ms/step - loss: 0.0324 - accuracy: 0.9897 - val_loss: 0.0371 - val_accuracy: 0.9879\n",
      "Epoch 6/15\n",
      "1875/1875 [==============================] - 14s 7ms/step - loss: 0.0262 - accuracy: 0.9917 - val_loss: 0.0298 - val_accuracy: 0.9906\n",
      "Epoch 7/15\n",
      "1875/1875 [==============================] - 12s 6ms/step - loss: 0.0228 - accuracy: 0.9927 - val_loss: 0.0348 - val_accuracy: 0.9885\n",
      "Epoch 8/15\n",
      "1875/1875 [==============================] - 12s 6ms/step - loss: 0.0194 - accuracy: 0.9937 - val_loss: 0.0427 - val_accuracy: 0.9871\n",
      "Epoch 9/15\n",
      "1875/1875 [==============================] - 12s 6ms/step - loss: 0.0152 - accuracy: 0.9947 - val_loss: 0.0480 - val_accuracy: 0.9866\n",
      "Epoch 10/15\n",
      "1875/1875 [==============================] - 12s 6ms/step - loss: 0.0152 - accuracy: 0.9948 - val_loss: 0.0397 - val_accuracy: 0.9890\n",
      "Epoch 11/15\n",
      "1875/1875 [==============================] - 12s 6ms/step - loss: 0.0128 - accuracy: 0.9957 - val_loss: 0.0429 - val_accuracy: 0.9880\n",
      "Epoch 12/15\n",
      "1875/1875 [==============================] - 12s 6ms/step - loss: 0.0113 - accuracy: 0.9963 - val_loss: 0.0347 - val_accuracy: 0.9905\n",
      "Epoch 13/15\n",
      "1875/1875 [==============================] - 12s 6ms/step - loss: 0.0106 - accuracy: 0.9966 - val_loss: 0.0454 - val_accuracy: 0.9893\n",
      "Epoch 14/15\n",
      "1875/1875 [==============================] - 12s 6ms/step - loss: 0.0100 - accuracy: 0.9967 - val_loss: 0.0415 - val_accuracy: 0.9896\n",
      "Epoch 15/15\n",
      "1875/1875 [==============================] - 12s 6ms/step - loss: 0.0079 - accuracy: 0.9977 - val_loss: 0.0405 - val_accuracy: 0.9914\n"
     ]
    }
   ],
   "source": [
    "run_hist = lenet5_model.fit(x_train, y_train,\n",
    "              epochs=15,\n",
    "              validation_data=(x_test, y_test),\n",
    "              shuffle=True)"
   ]
  },
  {
   "cell_type": "code",
   "execution_count": 27,
   "metadata": {},
   "outputs": [
    {
     "name": "stdout",
     "output_type": "stream",
     "text": [
      "313/313 [==============================] - 1s 3ms/step - loss: 0.0405 - accuracy: 0.9914\n",
      "Test accuracy: 0.9914000034332275\n"
     ]
    }
   ],
   "source": [
    "test_loss, test_acc = lenet5_model.evaluate(x_test, y_test)\n",
    "print(f'Test accuracy: {test_acc}')"
   ]
  },
  {
   "cell_type": "code",
   "execution_count": null,
   "metadata": {},
   "outputs": [],
   "source": [
    "fig, ax = plt.subplots()\n",
    "ax.plot(run_hist.history[\"loss\"],'r', marker='.', label=\"Train Loss\")\n",
    "ax.plot(run_hist.history[\"val_loss\"],'b', marker='.', label=\"Validation Loss\")\n",
    "ax.legend()"
   ]
  },
  {
   "cell_type": "code",
   "execution_count": null,
   "metadata": {},
   "outputs": [],
   "source": []
  }
 ],
 "metadata": {
  "kernelspec": {
   "display_name": "Python 3 (ipykernel)",
   "language": "python",
   "name": "python3"
  },
  "language_info": {
   "codemirror_mode": {
    "name": "ipython",
    "version": 3
   },
   "file_extension": ".py",
   "mimetype": "text/x-python",
   "name": "python",
   "nbconvert_exporter": "python",
   "pygments_lexer": "ipython3",
   "version": "3.10.9"
  }
 },
 "nbformat": 4,
 "nbformat_minor": 2
}
